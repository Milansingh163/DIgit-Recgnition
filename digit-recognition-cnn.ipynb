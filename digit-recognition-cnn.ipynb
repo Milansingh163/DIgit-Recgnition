{
 "cells": [
  {
   "cell_type": "code",
   "execution_count": 1,
   "id": "6b10c619",
   "metadata": {
    "_cell_guid": "b1076dfc-b9ad-4769-8c92-a6c4dae69d19",
    "_uuid": "8f2839f25d086af736a60e9eeb907d3b93b6e0e5",
    "execution": {
     "iopub.execute_input": "2023-01-30T08:41:11.752119Z",
     "iopub.status.busy": "2023-01-30T08:41:11.751518Z",
     "iopub.status.idle": "2023-01-30T08:41:11.775000Z",
     "shell.execute_reply": "2023-01-30T08:41:11.773780Z"
    },
    "papermill": {
     "duration": 0.038042,
     "end_time": "2023-01-30T08:41:11.778180",
     "exception": false,
     "start_time": "2023-01-30T08:41:11.740138",
     "status": "completed"
    },
    "tags": []
   },
   "outputs": [
    {
     "name": "stdout",
     "output_type": "stream",
     "text": [
      "/kaggle/input/digit-recognizer/sample_submission.csv\n",
      "/kaggle/input/digit-recognizer/train.csv\n",
      "/kaggle/input/digit-recognizer/test.csv\n"
     ]
    }
   ],
   "source": [
    "# This Python 3 environment comes with many helpful analytics libraries installed\n",
    "# It is defined by the kaggle/python Docker image: https://github.com/kaggle/docker-python\n",
    "# For example, here's several helpful packages to load\n",
    "\n",
    "import numpy as np # linear algebra\n",
    "import pandas as pd # data processing, CSV file I/O (e.g. pd.read_csv)\n",
    "\n",
    "# Input data files are available in the read-only \"../input/\" directory\n",
    "# For example, running this (by clicking run or pressing Shift+Enter) will list all files under the input directory\n",
    "\n",
    "import os\n",
    "for dirname, _, filenames in os.walk('/kaggle/input'):\n",
    "    for filename in filenames:\n",
    "        print(os.path.join(dirname, filename))\n",
    "\n",
    "# You can write up to 20GB to the current directory (/kaggle/working/) that gets preserved as output when you create a version using \"Save & Run All\" \n",
    "# You can also write temporary files to /kaggle/temp/, but they won't be saved outside of the current session"
   ]
  },
  {
   "cell_type": "code",
   "execution_count": 2,
   "id": "e0c6feec",
   "metadata": {
    "execution": {
     "iopub.execute_input": "2023-01-30T08:41:11.794647Z",
     "iopub.status.busy": "2023-01-30T08:41:11.793532Z",
     "iopub.status.idle": "2023-01-30T08:41:13.131450Z",
     "shell.execute_reply": "2023-01-30T08:41:13.129942Z"
    },
    "papermill": {
     "duration": 1.350162,
     "end_time": "2023-01-30T08:41:13.135086",
     "exception": false,
     "start_time": "2023-01-30T08:41:11.784924",
     "status": "completed"
    },
    "tags": []
   },
   "outputs": [],
   "source": [
    "import numpy as np\n",
    "import pandas as pd\n",
    "import matplotlib.pyplot as plt\n",
    "import seaborn as sns\n",
    "import warnings\n",
    "warnings.filterwarnings('ignore')"
   ]
  },
  {
   "cell_type": "code",
   "execution_count": 3,
   "id": "2cec533d",
   "metadata": {
    "execution": {
     "iopub.execute_input": "2023-01-30T08:41:13.150744Z",
     "iopub.status.busy": "2023-01-30T08:41:13.150217Z",
     "iopub.status.idle": "2023-01-30T08:41:17.424887Z",
     "shell.execute_reply": "2023-01-30T08:41:17.423354Z"
    },
    "papermill": {
     "duration": 4.286443,
     "end_time": "2023-01-30T08:41:17.428110",
     "exception": false,
     "start_time": "2023-01-30T08:41:13.141667",
     "status": "completed"
    },
    "tags": []
   },
   "outputs": [
    {
     "name": "stdout",
     "output_type": "stream",
     "text": [
      "(42000, 785)\n"
     ]
    },
    {
     "data": {
      "text/html": [
       "<div>\n",
       "<style scoped>\n",
       "    .dataframe tbody tr th:only-of-type {\n",
       "        vertical-align: middle;\n",
       "    }\n",
       "\n",
       "    .dataframe tbody tr th {\n",
       "        vertical-align: top;\n",
       "    }\n",
       "\n",
       "    .dataframe thead th {\n",
       "        text-align: right;\n",
       "    }\n",
       "</style>\n",
       "<table border=\"1\" class=\"dataframe\">\n",
       "  <thead>\n",
       "    <tr style=\"text-align: right;\">\n",
       "      <th></th>\n",
       "      <th>label</th>\n",
       "      <th>pixel0</th>\n",
       "      <th>pixel1</th>\n",
       "      <th>pixel2</th>\n",
       "      <th>pixel3</th>\n",
       "      <th>pixel4</th>\n",
       "      <th>pixel5</th>\n",
       "      <th>pixel6</th>\n",
       "      <th>pixel7</th>\n",
       "      <th>pixel8</th>\n",
       "      <th>...</th>\n",
       "      <th>pixel774</th>\n",
       "      <th>pixel775</th>\n",
       "      <th>pixel776</th>\n",
       "      <th>pixel777</th>\n",
       "      <th>pixel778</th>\n",
       "      <th>pixel779</th>\n",
       "      <th>pixel780</th>\n",
       "      <th>pixel781</th>\n",
       "      <th>pixel782</th>\n",
       "      <th>pixel783</th>\n",
       "    </tr>\n",
       "  </thead>\n",
       "  <tbody>\n",
       "    <tr>\n",
       "      <th>0</th>\n",
       "      <td>1</td>\n",
       "      <td>0</td>\n",
       "      <td>0</td>\n",
       "      <td>0</td>\n",
       "      <td>0</td>\n",
       "      <td>0</td>\n",
       "      <td>0</td>\n",
       "      <td>0</td>\n",
       "      <td>0</td>\n",
       "      <td>0</td>\n",
       "      <td>...</td>\n",
       "      <td>0</td>\n",
       "      <td>0</td>\n",
       "      <td>0</td>\n",
       "      <td>0</td>\n",
       "      <td>0</td>\n",
       "      <td>0</td>\n",
       "      <td>0</td>\n",
       "      <td>0</td>\n",
       "      <td>0</td>\n",
       "      <td>0</td>\n",
       "    </tr>\n",
       "    <tr>\n",
       "      <th>1</th>\n",
       "      <td>0</td>\n",
       "      <td>0</td>\n",
       "      <td>0</td>\n",
       "      <td>0</td>\n",
       "      <td>0</td>\n",
       "      <td>0</td>\n",
       "      <td>0</td>\n",
       "      <td>0</td>\n",
       "      <td>0</td>\n",
       "      <td>0</td>\n",
       "      <td>...</td>\n",
       "      <td>0</td>\n",
       "      <td>0</td>\n",
       "      <td>0</td>\n",
       "      <td>0</td>\n",
       "      <td>0</td>\n",
       "      <td>0</td>\n",
       "      <td>0</td>\n",
       "      <td>0</td>\n",
       "      <td>0</td>\n",
       "      <td>0</td>\n",
       "    </tr>\n",
       "    <tr>\n",
       "      <th>2</th>\n",
       "      <td>1</td>\n",
       "      <td>0</td>\n",
       "      <td>0</td>\n",
       "      <td>0</td>\n",
       "      <td>0</td>\n",
       "      <td>0</td>\n",
       "      <td>0</td>\n",
       "      <td>0</td>\n",
       "      <td>0</td>\n",
       "      <td>0</td>\n",
       "      <td>...</td>\n",
       "      <td>0</td>\n",
       "      <td>0</td>\n",
       "      <td>0</td>\n",
       "      <td>0</td>\n",
       "      <td>0</td>\n",
       "      <td>0</td>\n",
       "      <td>0</td>\n",
       "      <td>0</td>\n",
       "      <td>0</td>\n",
       "      <td>0</td>\n",
       "    </tr>\n",
       "    <tr>\n",
       "      <th>3</th>\n",
       "      <td>4</td>\n",
       "      <td>0</td>\n",
       "      <td>0</td>\n",
       "      <td>0</td>\n",
       "      <td>0</td>\n",
       "      <td>0</td>\n",
       "      <td>0</td>\n",
       "      <td>0</td>\n",
       "      <td>0</td>\n",
       "      <td>0</td>\n",
       "      <td>...</td>\n",
       "      <td>0</td>\n",
       "      <td>0</td>\n",
       "      <td>0</td>\n",
       "      <td>0</td>\n",
       "      <td>0</td>\n",
       "      <td>0</td>\n",
       "      <td>0</td>\n",
       "      <td>0</td>\n",
       "      <td>0</td>\n",
       "      <td>0</td>\n",
       "    </tr>\n",
       "    <tr>\n",
       "      <th>4</th>\n",
       "      <td>0</td>\n",
       "      <td>0</td>\n",
       "      <td>0</td>\n",
       "      <td>0</td>\n",
       "      <td>0</td>\n",
       "      <td>0</td>\n",
       "      <td>0</td>\n",
       "      <td>0</td>\n",
       "      <td>0</td>\n",
       "      <td>0</td>\n",
       "      <td>...</td>\n",
       "      <td>0</td>\n",
       "      <td>0</td>\n",
       "      <td>0</td>\n",
       "      <td>0</td>\n",
       "      <td>0</td>\n",
       "      <td>0</td>\n",
       "      <td>0</td>\n",
       "      <td>0</td>\n",
       "      <td>0</td>\n",
       "      <td>0</td>\n",
       "    </tr>\n",
       "  </tbody>\n",
       "</table>\n",
       "<p>5 rows × 785 columns</p>\n",
       "</div>"
      ],
      "text/plain": [
       "   label  pixel0  pixel1  pixel2  pixel3  pixel4  pixel5  pixel6  pixel7  \\\n",
       "0      1       0       0       0       0       0       0       0       0   \n",
       "1      0       0       0       0       0       0       0       0       0   \n",
       "2      1       0       0       0       0       0       0       0       0   \n",
       "3      4       0       0       0       0       0       0       0       0   \n",
       "4      0       0       0       0       0       0       0       0       0   \n",
       "\n",
       "   pixel8  ...  pixel774  pixel775  pixel776  pixel777  pixel778  pixel779  \\\n",
       "0       0  ...         0         0         0         0         0         0   \n",
       "1       0  ...         0         0         0         0         0         0   \n",
       "2       0  ...         0         0         0         0         0         0   \n",
       "3       0  ...         0         0         0         0         0         0   \n",
       "4       0  ...         0         0         0         0         0         0   \n",
       "\n",
       "   pixel780  pixel781  pixel782  pixel783  \n",
       "0         0         0         0         0  \n",
       "1         0         0         0         0  \n",
       "2         0         0         0         0  \n",
       "3         0         0         0         0  \n",
       "4         0         0         0         0  \n",
       "\n",
       "[5 rows x 785 columns]"
      ]
     },
     "execution_count": 3,
     "metadata": {},
     "output_type": "execute_result"
    }
   ],
   "source": [
    "train = pd.read_csv(\"/kaggle/input/digit-recognizer/train.csv\")\n",
    "print(train.shape)\n",
    "train.head()"
   ]
  },
  {
   "cell_type": "code",
   "execution_count": 4,
   "id": "601fecd8",
   "metadata": {
    "execution": {
     "iopub.execute_input": "2023-01-30T08:41:17.444346Z",
     "iopub.status.busy": "2023-01-30T08:41:17.443782Z",
     "iopub.status.idle": "2023-01-30T08:41:19.824505Z",
     "shell.execute_reply": "2023-01-30T08:41:19.822907Z"
    },
    "papermill": {
     "duration": 2.392328,
     "end_time": "2023-01-30T08:41:19.827387",
     "exception": false,
     "start_time": "2023-01-30T08:41:17.435059",
     "status": "completed"
    },
    "tags": []
   },
   "outputs": [
    {
     "name": "stdout",
     "output_type": "stream",
     "text": [
      "(28000, 784)\n"
     ]
    },
    {
     "data": {
      "text/html": [
       "<div>\n",
       "<style scoped>\n",
       "    .dataframe tbody tr th:only-of-type {\n",
       "        vertical-align: middle;\n",
       "    }\n",
       "\n",
       "    .dataframe tbody tr th {\n",
       "        vertical-align: top;\n",
       "    }\n",
       "\n",
       "    .dataframe thead th {\n",
       "        text-align: right;\n",
       "    }\n",
       "</style>\n",
       "<table border=\"1\" class=\"dataframe\">\n",
       "  <thead>\n",
       "    <tr style=\"text-align: right;\">\n",
       "      <th></th>\n",
       "      <th>pixel0</th>\n",
       "      <th>pixel1</th>\n",
       "      <th>pixel2</th>\n",
       "      <th>pixel3</th>\n",
       "      <th>pixel4</th>\n",
       "      <th>pixel5</th>\n",
       "      <th>pixel6</th>\n",
       "      <th>pixel7</th>\n",
       "      <th>pixel8</th>\n",
       "      <th>pixel9</th>\n",
       "      <th>...</th>\n",
       "      <th>pixel774</th>\n",
       "      <th>pixel775</th>\n",
       "      <th>pixel776</th>\n",
       "      <th>pixel777</th>\n",
       "      <th>pixel778</th>\n",
       "      <th>pixel779</th>\n",
       "      <th>pixel780</th>\n",
       "      <th>pixel781</th>\n",
       "      <th>pixel782</th>\n",
       "      <th>pixel783</th>\n",
       "    </tr>\n",
       "  </thead>\n",
       "  <tbody>\n",
       "    <tr>\n",
       "      <th>0</th>\n",
       "      <td>0</td>\n",
       "      <td>0</td>\n",
       "      <td>0</td>\n",
       "      <td>0</td>\n",
       "      <td>0</td>\n",
       "      <td>0</td>\n",
       "      <td>0</td>\n",
       "      <td>0</td>\n",
       "      <td>0</td>\n",
       "      <td>0</td>\n",
       "      <td>...</td>\n",
       "      <td>0</td>\n",
       "      <td>0</td>\n",
       "      <td>0</td>\n",
       "      <td>0</td>\n",
       "      <td>0</td>\n",
       "      <td>0</td>\n",
       "      <td>0</td>\n",
       "      <td>0</td>\n",
       "      <td>0</td>\n",
       "      <td>0</td>\n",
       "    </tr>\n",
       "    <tr>\n",
       "      <th>1</th>\n",
       "      <td>0</td>\n",
       "      <td>0</td>\n",
       "      <td>0</td>\n",
       "      <td>0</td>\n",
       "      <td>0</td>\n",
       "      <td>0</td>\n",
       "      <td>0</td>\n",
       "      <td>0</td>\n",
       "      <td>0</td>\n",
       "      <td>0</td>\n",
       "      <td>...</td>\n",
       "      <td>0</td>\n",
       "      <td>0</td>\n",
       "      <td>0</td>\n",
       "      <td>0</td>\n",
       "      <td>0</td>\n",
       "      <td>0</td>\n",
       "      <td>0</td>\n",
       "      <td>0</td>\n",
       "      <td>0</td>\n",
       "      <td>0</td>\n",
       "    </tr>\n",
       "    <tr>\n",
       "      <th>2</th>\n",
       "      <td>0</td>\n",
       "      <td>0</td>\n",
       "      <td>0</td>\n",
       "      <td>0</td>\n",
       "      <td>0</td>\n",
       "      <td>0</td>\n",
       "      <td>0</td>\n",
       "      <td>0</td>\n",
       "      <td>0</td>\n",
       "      <td>0</td>\n",
       "      <td>...</td>\n",
       "      <td>0</td>\n",
       "      <td>0</td>\n",
       "      <td>0</td>\n",
       "      <td>0</td>\n",
       "      <td>0</td>\n",
       "      <td>0</td>\n",
       "      <td>0</td>\n",
       "      <td>0</td>\n",
       "      <td>0</td>\n",
       "      <td>0</td>\n",
       "    </tr>\n",
       "    <tr>\n",
       "      <th>3</th>\n",
       "      <td>0</td>\n",
       "      <td>0</td>\n",
       "      <td>0</td>\n",
       "      <td>0</td>\n",
       "      <td>0</td>\n",
       "      <td>0</td>\n",
       "      <td>0</td>\n",
       "      <td>0</td>\n",
       "      <td>0</td>\n",
       "      <td>0</td>\n",
       "      <td>...</td>\n",
       "      <td>0</td>\n",
       "      <td>0</td>\n",
       "      <td>0</td>\n",
       "      <td>0</td>\n",
       "      <td>0</td>\n",
       "      <td>0</td>\n",
       "      <td>0</td>\n",
       "      <td>0</td>\n",
       "      <td>0</td>\n",
       "      <td>0</td>\n",
       "    </tr>\n",
       "    <tr>\n",
       "      <th>4</th>\n",
       "      <td>0</td>\n",
       "      <td>0</td>\n",
       "      <td>0</td>\n",
       "      <td>0</td>\n",
       "      <td>0</td>\n",
       "      <td>0</td>\n",
       "      <td>0</td>\n",
       "      <td>0</td>\n",
       "      <td>0</td>\n",
       "      <td>0</td>\n",
       "      <td>...</td>\n",
       "      <td>0</td>\n",
       "      <td>0</td>\n",
       "      <td>0</td>\n",
       "      <td>0</td>\n",
       "      <td>0</td>\n",
       "      <td>0</td>\n",
       "      <td>0</td>\n",
       "      <td>0</td>\n",
       "      <td>0</td>\n",
       "      <td>0</td>\n",
       "    </tr>\n",
       "  </tbody>\n",
       "</table>\n",
       "<p>5 rows × 784 columns</p>\n",
       "</div>"
      ],
      "text/plain": [
       "   pixel0  pixel1  pixel2  pixel3  pixel4  pixel5  pixel6  pixel7  pixel8  \\\n",
       "0       0       0       0       0       0       0       0       0       0   \n",
       "1       0       0       0       0       0       0       0       0       0   \n",
       "2       0       0       0       0       0       0       0       0       0   \n",
       "3       0       0       0       0       0       0       0       0       0   \n",
       "4       0       0       0       0       0       0       0       0       0   \n",
       "\n",
       "   pixel9  ...  pixel774  pixel775  pixel776  pixel777  pixel778  pixel779  \\\n",
       "0       0  ...         0         0         0         0         0         0   \n",
       "1       0  ...         0         0         0         0         0         0   \n",
       "2       0  ...         0         0         0         0         0         0   \n",
       "3       0  ...         0         0         0         0         0         0   \n",
       "4       0  ...         0         0         0         0         0         0   \n",
       "\n",
       "   pixel780  pixel781  pixel782  pixel783  \n",
       "0         0         0         0         0  \n",
       "1         0         0         0         0  \n",
       "2         0         0         0         0  \n",
       "3         0         0         0         0  \n",
       "4         0         0         0         0  \n",
       "\n",
       "[5 rows x 784 columns]"
      ]
     },
     "execution_count": 4,
     "metadata": {},
     "output_type": "execute_result"
    }
   ],
   "source": [
    "test = pd.read_csv(\"/kaggle/input/digit-recognizer/test.csv\")\n",
    "print(test.shape)\n",
    "test.head()"
   ]
  },
  {
   "cell_type": "code",
   "execution_count": 5,
   "id": "a8f51284",
   "metadata": {
    "execution": {
     "iopub.execute_input": "2023-01-30T08:41:19.843904Z",
     "iopub.status.busy": "2023-01-30T08:41:19.843337Z",
     "iopub.status.idle": "2023-01-30T08:41:19.862785Z",
     "shell.execute_reply": "2023-01-30T08:41:19.861467Z"
    },
    "papermill": {
     "duration": 0.030729,
     "end_time": "2023-01-30T08:41:19.865371",
     "exception": false,
     "start_time": "2023-01-30T08:41:19.834642",
     "status": "completed"
    },
    "tags": []
   },
   "outputs": [
    {
     "data": {
      "text/plain": [
       "1    4684\n",
       "7    4401\n",
       "3    4351\n",
       "9    4188\n",
       "2    4177\n",
       "6    4137\n",
       "0    4132\n",
       "4    4072\n",
       "8    4063\n",
       "5    3795\n",
       "Name: label, dtype: int64"
      ]
     },
     "execution_count": 5,
     "metadata": {},
     "output_type": "execute_result"
    }
   ],
   "source": [
    "train['label'].value_counts()"
   ]
  },
  {
   "cell_type": "code",
   "execution_count": 6,
   "id": "987b9853",
   "metadata": {
    "execution": {
     "iopub.execute_input": "2023-01-30T08:41:19.882024Z",
     "iopub.status.busy": "2023-01-30T08:41:19.881512Z",
     "iopub.status.idle": "2023-01-30T08:41:20.083457Z",
     "shell.execute_reply": "2023-01-30T08:41:20.082051Z"
    },
    "papermill": {
     "duration": 0.213516,
     "end_time": "2023-01-30T08:41:20.086164",
     "exception": false,
     "start_time": "2023-01-30T08:41:19.872648",
     "status": "completed"
    },
    "tags": []
   },
   "outputs": [
    {
     "name": "stdout",
     "output_type": "stream",
     "text": [
      "(42000, 784)\n",
      "(42000,)\n"
     ]
    }
   ],
   "source": [
    "X_train = train.drop(labels =['label'],axis=1)\n",
    "Y_train = train['label']\n",
    "print(X_train.shape)\n",
    "print(Y_train.shape)"
   ]
  },
  {
   "cell_type": "code",
   "execution_count": 7,
   "id": "85ee5722",
   "metadata": {
    "execution": {
     "iopub.execute_input": "2023-01-30T08:41:20.103063Z",
     "iopub.status.busy": "2023-01-30T08:41:20.102530Z",
     "iopub.status.idle": "2023-01-30T08:41:20.279375Z",
     "shell.execute_reply": "2023-01-30T08:41:20.277955Z"
    },
    "papermill": {
     "duration": 0.188914,
     "end_time": "2023-01-30T08:41:20.282500",
     "exception": false,
     "start_time": "2023-01-30T08:41:20.093586",
     "status": "completed"
    },
    "tags": []
   },
   "outputs": [
    {
     "data": {
      "image/png": "[encoded data removed]",
      "text/plain": [
       "<Figure size 432x288 with 1 Axes>"
      ]
     },
     "metadata": {
      "needs_background": "light"
     },
     "output_type": "display_data"
    }
   ],
   "source": [
    "# plot some samples\n",
    "img = X_train.iloc[0].to_numpy()\n",
    "img = img.reshape((28,28))\n",
    "plt.imshow(img,cmap='gray')\n",
    "plt.title(train.iloc[0,0])\n",
    "plt.axis(\"off\")\n",
    "plt.show()"
   ]
  },
  {
   "cell_type": "code",
   "execution_count": 8,
   "id": "2f7f8655",
   "metadata": {
    "execution": {
     "iopub.execute_input": "2023-01-30T08:41:20.300446Z",
     "iopub.status.busy": "2023-01-30T08:41:20.299118Z",
     "iopub.status.idle": "2023-01-30T08:41:20.419923Z",
     "shell.execute_reply": "2023-01-30T08:41:20.417718Z"
    },
    "papermill": {
     "duration": 0.136059,
     "end_time": "2023-01-30T08:41:20.425957",
     "exception": false,
     "start_time": "2023-01-30T08:41:20.289898",
     "status": "completed"
    },
    "tags": []
   },
   "outputs": [
    {
     "data": {
      "image/png": "[encoded data removed]",
      "text/plain": [
       "<Figure size 432x288 with 1 Axes>"
      ]
     },
     "metadata": {
      "needs_background": "light"
     },
     "output_type": "display_data"
    }
   ],
   "source": [
    "img = X_train.iloc[1].to_numpy()\n",
    "img = img.reshape((28,28))\n",
    "plt.imshow(img,cmap='gray')\n",
    "plt.title(train.iloc[0,0])\n",
    "plt.axis(\"off\")\n",
    "plt.show()"
   ]
  },
  {
   "cell_type": "code",
   "execution_count": 9,
   "id": "b179cbfe",
   "metadata": {
    "execution": {
     "iopub.execute_input": "2023-01-30T08:41:20.460296Z",
     "iopub.status.busy": "2023-01-30T08:41:20.458787Z",
     "iopub.status.idle": "2023-01-30T08:41:20.571984Z",
     "shell.execute_reply": "2023-01-30T08:41:20.570087Z"
    },
    "papermill": {
     "duration": 0.132844,
     "end_time": "2023-01-30T08:41:20.577507",
     "exception": false,
     "start_time": "2023-01-30T08:41:20.444663",
     "status": "completed"
    },
    "tags": []
   },
   "outputs": [
    {
     "data": {
      "image/png": "[encoded data removed]",
      "text/plain": [
       "<Figure size 432x288 with 1 Axes>"
      ]
     },
     "metadata": {
      "needs_background": "light"
     },
     "output_type": "display_data"
    }
   ],
   "source": [
    "img = X_train.iloc[3].to_numpy()\n",
    "img = img.reshape((28,28))\n",
    "plt.imshow(img,cmap='gray')\n",
    "plt.title(train.iloc[0,0])\n",
    "plt.axis(\"off\")\n",
    "plt.show()"
   ]
  },
  {
   "cell_type": "code",
   "execution_count": 10,
   "id": "b72624a4",
   "metadata": {
    "execution": {
     "iopub.execute_input": "2023-01-30T08:41:20.613765Z",
     "iopub.status.busy": "2023-01-30T08:41:20.612529Z",
     "iopub.status.idle": "2023-01-30T08:41:20.801061Z",
     "shell.execute_reply": "2023-01-30T08:41:20.799339Z"
    },
    "papermill": {
     "duration": 0.208898,
     "end_time": "2023-01-30T08:41:20.805579",
     "exception": false,
     "start_time": "2023-01-30T08:41:20.596681",
     "status": "completed"
    },
    "tags": []
   },
   "outputs": [
    {
     "name": "stdout",
     "output_type": "stream",
     "text": [
      "x_train shape:  (42000, 784)\n",
      "test shape:  (28000, 784)\n"
     ]
    }
   ],
   "source": [
    "# normalization,reshape and lablel encoding\n",
    "X_train = X_train/255.0\n",
    "test = test/255.0\n",
    "print(\"x_train shape: \",X_train.shape)\n",
    "print(\"test shape: \",test.shape)"
   ]
  },
  {
   "cell_type": "code",
   "execution_count": 11,
   "id": "37d19a81",
   "metadata": {
    "execution": {
     "iopub.execute_input": "2023-01-30T08:41:20.824168Z",
     "iopub.status.busy": "2023-01-30T08:41:20.823659Z",
     "iopub.status.idle": "2023-01-30T08:41:20.831377Z",
     "shell.execute_reply": "2023-01-30T08:41:20.829963Z"
    },
    "papermill": {
     "duration": 0.022198,
     "end_time": "2023-01-30T08:41:20.836143",
     "exception": false,
     "start_time": "2023-01-30T08:41:20.813945",
     "status": "completed"
    },
    "tags": []
   },
   "outputs": [
    {
     "name": "stdout",
     "output_type": "stream",
     "text": [
      "x_train shape:  (42000, 28, 28, 1)\n",
      "test shape:  (28000, 28, 28, 1)\n"
     ]
    }
   ],
   "source": [
    "X_train = X_train.values.reshape(-1,28,28,1)\n",
    "test = test.values.reshape(-1,28,28,1)\n",
    "print(\"x_train shape: \",X_train.shape)\n",
    "print(\"test shape: \",test.shape)"
   ]
  },
  {
   "cell_type": "code",
   "execution_count": 12,
   "id": "cfb95dbf",
   "metadata": {
    "execution": {
     "iopub.execute_input": "2023-01-30T08:41:20.856386Z",
     "iopub.status.busy": "2023-01-30T08:41:20.855612Z",
     "iopub.status.idle": "2023-01-30T08:41:28.282551Z",
     "shell.execute_reply": "2023-01-30T08:41:28.280782Z"
    },
    "papermill": {
     "duration": 7.440262,
     "end_time": "2023-01-30T08:41:28.285926",
     "exception": false,
     "start_time": "2023-01-30T08:41:20.845664",
     "status": "completed"
    },
    "tags": []
   },
   "outputs": [],
   "source": [
    "#one-hot-encoding from keras\n",
    "from keras.utils.np_utils import to_categorical \n",
    "Y_train = to_categorical(Y_train, num_classes = 10)"
   ]
  },
  {
   "cell_type": "code",
   "execution_count": 13,
   "id": "77361709",
   "metadata": {
    "execution": {
     "iopub.execute_input": "2023-01-30T08:41:28.309010Z",
     "iopub.status.busy": "2023-01-30T08:41:28.306892Z",
     "iopub.status.idle": "2023-01-30T08:41:29.232649Z",
     "shell.execute_reply": "2023-01-30T08:41:29.231029Z"
    },
    "papermill": {
     "duration": 0.941341,
     "end_time": "2023-01-30T08:41:29.236919",
     "exception": false,
     "start_time": "2023-01-30T08:41:28.295578",
     "status": "completed"
    },
    "tags": []
   },
   "outputs": [
    {
     "name": "stdout",
     "output_type": "stream",
     "text": [
      "x_train shape (33600, 28, 28, 1)\n",
      "x_test shape (8400, 28, 28, 1)\n",
      "y_train shape (33600, 10)\n",
      "y_test shape (8400, 10)\n"
     ]
    }
   ],
   "source": [
    "from sklearn.model_selection import train_test_split\n",
    "X_train, X_val, Y_train, Y_val = train_test_split(X_train, Y_train, test_size = 0.2, random_state=42)\n",
    "print(\"x_train shape\",X_train.shape)\n",
    "print(\"x_test shape\",X_val.shape)\n",
    "print(\"y_train shape\",Y_train.shape)\n",
    "print(\"y_test shape\",Y_val.shape)"
   ]
  },
  {
   "cell_type": "code",
   "execution_count": 14,
   "id": "208f294b",
   "metadata": {
    "execution": {
     "iopub.execute_input": "2023-01-30T08:41:29.257860Z",
     "iopub.status.busy": "2023-01-30T08:41:29.257277Z",
     "iopub.status.idle": "2023-01-30T08:41:29.264693Z",
     "shell.execute_reply": "2023-01-30T08:41:29.263273Z"
    },
    "papermill": {
     "duration": 0.020466,
     "end_time": "2023-01-30T08:41:29.267643",
     "exception": false,
     "start_time": "2023-01-30T08:41:29.247177",
     "status": "completed"
    },
    "tags": []
   },
   "outputs": [],
   "source": [
    "from sklearn.metrics import confusion_matrix\n",
    "import itertools\n",
    "\n",
    "from keras.utils.np_utils import to_categorical # convert to one-hot-encoding\n",
    "from keras.models import Sequential\n",
    "from keras.layers import Dense, Dropout, Flatten, Conv2D, MaxPool2D\n",
    "from keras.preprocessing.image import ImageDataGenerator\n",
    "from keras.callbacks import ReduceLROnPlateau"
   ]
  },
  {
   "cell_type": "code",
   "execution_count": 15,
   "id": "110bf9ff",
   "metadata": {
    "execution": {
     "iopub.execute_input": "2023-01-30T08:41:29.286952Z",
     "iopub.status.busy": "2023-01-30T08:41:29.286382Z",
     "iopub.status.idle": "2023-01-30T08:41:29.479117Z",
     "shell.execute_reply": "2023-01-30T08:41:29.477751Z"
    },
    "papermill": {
     "duration": 0.206621,
     "end_time": "2023-01-30T08:41:29.482924",
     "exception": false,
     "start_time": "2023-01-30T08:41:29.276303",
     "status": "completed"
    },
    "tags": []
   },
   "outputs": [
    {
     "name": "stderr",
     "output_type": "stream",
     "text": [
      "2023-01-30 08:41:29.333238: I tensorflow/core/common_runtime/process_util.cc:146] Creating new thread pool with default inter op setting: 2. Tune using inter_op_parallelism_threads for best performance.\n"
     ]
    }
   ],
   "source": [
    "model = Sequential()\n",
    "#\n",
    "model.add(Conv2D(filters = 8, kernel_size = (5,5),padding = 'Same', \n",
    "                 activation ='relu', input_shape = (28,28,1)))\n",
    "model.add(MaxPool2D(pool_size=(2,2)))\n",
    "model.add(Dropout(0.25))\n",
    "#\n",
    "model.add(Conv2D(filters = 16, kernel_size = (3,3),padding = 'Same', \n",
    "                 activation ='relu'))\n",
    "model.add(MaxPool2D(pool_size=(2,2), strides=(2,2)))\n",
    "model.add(Dropout(0.25))\n",
    "# fully connected\n",
    "model.add(Flatten())\n",
    "model.add(Dense(256, activation = \"relu\"))\n",
    "model.add(Dropout(0.5))\n",
    "model.add(Dense(10, activation = \"softmax\"))"
   ]
  },
  {
   "cell_type": "code",
   "execution_count": 16,
   "id": "f62161f4",
   "metadata": {
    "execution": {
     "iopub.execute_input": "2023-01-30T08:41:29.502903Z",
     "iopub.status.busy": "2023-01-30T08:41:29.501328Z",
     "iopub.status.idle": "2023-01-30T08:41:29.521283Z",
     "shell.execute_reply": "2023-01-30T08:41:29.519475Z"
    },
    "papermill": {
     "duration": 0.034033,
     "end_time": "2023-01-30T08:41:29.525390",
     "exception": false,
     "start_time": "2023-01-30T08:41:29.491357",
     "status": "completed"
    },
    "tags": []
   },
   "outputs": [],
   "source": [
    "model.compile(optimizer = 'Adam' , loss = \"categorical_crossentropy\", metrics=[\"accuracy\"])"
   ]
  },
  {
   "cell_type": "code",
   "execution_count": 17,
   "id": "6c5f8287",
   "metadata": {
    "execution": {
     "iopub.execute_input": "2023-01-30T08:41:29.543771Z",
     "iopub.status.busy": "2023-01-30T08:41:29.543275Z",
     "iopub.status.idle": "2023-01-30T08:41:29.694574Z",
     "shell.execute_reply": "2023-01-30T08:41:29.692817Z"
    },
    "papermill": {
     "duration": 0.1647,
     "end_time": "2023-01-30T08:41:29.698162",
     "exception": false,
     "start_time": "2023-01-30T08:41:29.533462",
     "status": "completed"
    },
    "tags": []
   },
   "outputs": [],
   "source": [
    "epochs = 10\n",
    "batch_size = 250\n",
    "datagen = ImageDataGenerator(\n",
    "        featurewise_center=False,  # set input mean to 0 over the dataset\n",
    "        samplewise_center=False,  # set each sample mean to 0\n",
    "        featurewise_std_normalization=False,  # divide inputs by std of the dataset\n",
    "        samplewise_std_normalization=False,  # divide each input by its std\n",
    "        zca_whitening=False,  # dimesion reduction\n",
    "        rotation_range=5,  # randomly rotate images in the range 5 degrees\n",
    "        zoom_range = 0.1, # Randomly zoom image 10%\n",
    "        width_shift_range=0.1,  # randomly shift images horizontally 10%\n",
    "        height_shift_range=0.1,  # randomly shift images vertically 10%\n",
    "        horizontal_flip=False,  # randomly flip images\n",
    "        vertical_flip=False)  # randomly flip images\n",
    "\n",
    "datagen.fit(X_train)"
   ]
  },
  {
   "cell_type": "code",
   "execution_count": 18,
   "id": "6cda918d",
   "metadata": {
    "execution": {
     "iopub.execute_input": "2023-01-30T08:41:29.716132Z",
     "iopub.status.busy": "2023-01-30T08:41:29.715532Z",
     "iopub.status.idle": "2023-01-30T08:44:28.964698Z",
     "shell.execute_reply": "2023-01-30T08:44:28.963266Z"
    },
    "papermill": {
     "duration": 179.262283,
     "end_time": "2023-01-30T08:44:28.968386",
     "exception": false,
     "start_time": "2023-01-30T08:41:29.706103",
     "status": "completed"
    },
    "tags": []
   },
   "outputs": [
    {
     "name": "stderr",
     "output_type": "stream",
     "text": [
      "2023-01-30 08:41:30.415409: I tensorflow/compiler/mlir/mlir_graph_optimization_pass.cc:185] None of the MLIR Optimization Passes are enabled (registered 2)\n"
     ]
    },
    {
     "name": "stdout",
     "output_type": "stream",
     "text": [
      "Epoch 1/10\n",
      "134/134 [==============================] - 13s 87ms/step - loss: 1.1627 - accuracy: 0.6087 - val_loss: 0.2416 - val_accuracy: 0.9354\n",
      "Epoch 2/10\n",
      "134/134 [==============================] - 12s 90ms/step - loss: 0.4810 - accuracy: 0.8436 - val_loss: 0.1429 - val_accuracy: 0.9582\n",
      "Epoch 3/10\n",
      "134/134 [==============================] - 12s 87ms/step - loss: 0.3530 - accuracy: 0.8887 - val_loss: 0.1132 - val_accuracy: 0.9675\n",
      "Epoch 4/10\n",
      "134/134 [==============================] - 11s 85ms/step - loss: 0.3003 - accuracy: 0.9069 - val_loss: 0.0880 - val_accuracy: 0.9749\n",
      "Epoch 5/10\n",
      "134/134 [==============================] - 12s 89ms/step - loss: 0.2692 - accuracy: 0.9145 - val_loss: 0.0860 - val_accuracy: 0.9740\n",
      "Epoch 6/10\n",
      "134/134 [==============================] - 11s 83ms/step - loss: 0.2462 - accuracy: 0.9226 - val_loss: 0.0724 - val_accuracy: 0.9790\n",
      "Epoch 7/10\n",
      "134/134 [==============================] - 11s 84ms/step - loss: 0.2199 - accuracy: 0.9320 - val_loss: 0.0690 - val_accuracy: 0.9795\n",
      "Epoch 8/10\n",
      "134/134 [==============================] - 11s 85ms/step - loss: 0.2118 - accuracy: 0.9343 - val_loss: 0.0615 - val_accuracy: 0.9818\n",
      "Epoch 9/10\n",
      "134/134 [==============================] - 12s 89ms/step - loss: 0.1971 - accuracy: 0.9393 - val_loss: 0.0593 - val_accuracy: 0.9825\n",
      "Epoch 10/10\n",
      "134/134 [==============================] - 12s 87ms/step - loss: 0.1842 - accuracy: 0.9427 - val_loss: 0.0581 - val_accuracy: 0.9812\n"
     ]
    }
   ],
   "source": [
    "history = model.fit_generator(datagen.flow(X_train,Y_train, batch_size=batch_size),\n",
    "                              epochs = epochs, validation_data = (X_val,Y_val), steps_per_epoch=X_train.shape[0] // batch_size)"
   ]
  },
  {
   "cell_type": "code",
   "execution_count": 19,
   "id": "2f64c6a1",
   "metadata": {
    "execution": {
     "iopub.execute_input": "2023-01-30T08:44:29.172305Z",
     "iopub.status.busy": "2023-01-30T08:44:29.171466Z",
     "iopub.status.idle": "2023-01-30T08:44:29.406685Z",
     "shell.execute_reply": "2023-01-30T08:44:29.405674Z"
    },
    "papermill": {
     "duration": 0.337071,
     "end_time": "2023-01-30T08:44:29.410418",
     "exception": false,
     "start_time": "2023-01-30T08:44:29.073347",
     "status": "completed"
    },
    "tags": []
   },
   "outputs": [
    {
     "data": {
      "image/png": "[encoded data removed]",
      "text/plain": [
       "<Figure size 432x288 with 1 Axes>"
      ]
     },
     "metadata": {
      "needs_background": "light"
     },
     "output_type": "display_data"
    }
   ],
   "source": [
    "plt.plot(history.history['val_loss'], color='b', label=\"validation loss\")\n",
    "plt.title(\"Test Loss\")\n",
    "plt.xlabel(\"Number of Epochs\")\n",
    "plt.ylabel(\"Loss\")\n",
    "plt.legend()\n",
    "plt.show()"
   ]
  },
  {
   "cell_type": "code",
   "execution_count": 20,
   "id": "14bca0b0",
   "metadata": {
    "execution": {
     "iopub.execute_input": "2023-01-30T08:44:29.645340Z",
     "iopub.status.busy": "2023-01-30T08:44:29.644766Z",
     "iopub.status.idle": "2023-01-30T08:44:31.325270Z",
     "shell.execute_reply": "2023-01-30T08:44:31.323708Z"
    },
    "papermill": {
     "duration": 1.80624,
     "end_time": "2023-01-30T08:44:31.328866",
     "exception": false,
     "start_time": "2023-01-30T08:44:29.522626",
     "status": "completed"
    },
    "tags": []
   },
   "outputs": [
    {
     "data": {
      "image/png": "[encoded data removed]",
      "text/plain": [
       "<Figure size 576x576 with 2 Axes>"
      ]
     },
     "metadata": {
      "needs_background": "light"
     },
     "output_type": "display_data"
    }
   ],
   "source": [
    "import seaborn as sns\n",
    "# Predict the values from the validation dataset\n",
    "Y_pred = model.predict(X_val)\n",
    "# Convert predictions classes to one hot vectors \n",
    "Y_pred_classes = np.argmax(Y_pred,axis = 1) \n",
    "# Convert validation observations to one hot vectors\n",
    "Y_true = np.argmax(Y_val,axis = 1) \n",
    "# compute the confusion matrix\n",
    "confusion_mtx = confusion_matrix(Y_true, Y_pred_classes) \n",
    "# plot the confusion matrix\n",
    "f,ax = plt.subplots(figsize=(8, 8))\n",
    "sns.heatmap(confusion_mtx, annot=True, linewidths=0.01,cmap=\"Greens\",linecolor=\"gray\", fmt= '.1f',ax=ax)\n",
    "plt.xlabel(\"Predicted Label\")\n",
    "plt.ylabel(\"True Label\")\n",
    "plt.title(\"Confusion Matrix\")\n",
    "plt.show()"
   ]
  },
  {
   "cell_type": "code",
   "execution_count": null,
   "id": "4b9ae544",
   "metadata": {
    "papermill": {
     "duration": 0.098144,
     "end_time": "2023-01-30T08:44:31.526813",
     "exception": false,
     "start_time": "2023-01-30T08:44:31.428669",
     "status": "completed"
    },
    "tags": []
   },
   "outputs": [],
   "source": []
  },
  {
   "cell_type": "code",
   "execution_count": null,
   "id": "cde364a8",
   "metadata": {
    "papermill": {
     "duration": 0.092996,
     "end_time": "2023-01-30T08:44:31.716149",
     "exception": false,
     "start_time": "2023-01-30T08:44:31.623153",
     "status": "completed"
    },
    "tags": []
   },
   "outputs": [],
   "source": []
  }
 ],
 "metadata": {
  "kernelspec": {
   "display_name": "Python 3",
   "language": "python",
   "name": "python3"
  },
  "language_info": {
   "codemirror_mode": {
    "name": "ipython",
    "version": 3
   },
   "file_extension": ".py",
   "mimetype": "text/x-python",
   "name": "python",
   "nbconvert_exporter": "python",
   "pygments_lexer": "ipython3",
   "version": "3.7.12"
  },
  "papermill": {
   "default_parameters": {},
   "duration": 214.483305,
   "end_time": "2023-01-30T08:44:35.270538",
   "environment_variables": {},
   "exception": null,
   "input_path": "__notebook__.ipynb",
   "output_path": "__notebook__.ipynb",
   "parameters": {},
   "start_time": "2023-01-30T08:41:00.787233",
   "version": "2.3.4"
  }
 },
 "nbformat": 4,
 "nbformat_minor": 5
}
